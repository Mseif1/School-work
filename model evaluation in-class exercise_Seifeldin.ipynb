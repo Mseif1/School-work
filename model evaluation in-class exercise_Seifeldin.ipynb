{
 "cells": [
  {
   "cell_type": "markdown",
   "id": "60ac2245",
   "metadata": {},
   "source": [
    "For the DDOS dataset, train several versions of decision tree clasifier by varying the max_depth parameter. Using 10-fold cross-validation to obtain the accuracy, precision and recall, and **fill the following table**.\n",
    "\n",
    "Based on the results, obain the optimal max_depth that gives you the highest accuracy, precision and recall.\n",
    "\n",
    "| Max_depth | Accuracy | Precision | Recall|\n",
    "| --- | --- | --- | --- |\n",
    "| 1 |  |  |  |\n",
    "| 5 |  |  |  |\n",
    "| 10 |  |  |  |\n",
    "| 15 |  |  |  |\n",
    "| 20 |  |  |  |\n",
    "| 25 |  |  |  |\n",
    "\n",
    "\n"
   ]
  },
  {
   "cell_type": "markdown",
   "id": "58801d49",
   "metadata": {},
   "source": [
    "The optimal Max_depth for \n",
    "- Accuracy:\n",
    "- Precision:\n",
    "- Recall: \n",
    "\n"
   ]
  },
  {
   "cell_type": "code",
   "execution_count": 1,
   "id": "9d79d5f5",
   "metadata": {},
   "outputs": [],
   "source": [
    "#write your codes in the following cells"
   ]
  },
  {
   "cell_type": "code",
   "execution_count": 1,
   "id": "e36364ef-bd7c-47a5-a551-29004a29b7e1",
   "metadata": {
    "tags": []
   },
   "outputs": [],
   "source": [
    "import numpy as np\n",
    "from sklearn.model_selection import cross_val_score, KFold\n",
    "from sklearn.tree import DecisionTreeClassifier\n",
    "from sklearn.metrics import accuracy_score, precision_score, recall_score"
   ]
  },
  {
   "cell_type": "code",
   "execution_count": 2,
   "id": "1b6dd467-4a15-4749-a965-97f68bd321f4",
   "metadata": {
    "tags": []
   },
   "outputs": [],
   "source": [
    "max_depths = [1, 5, 10, 15, 20, 25]\n",
    "results = {'max_depth': [], 'accuracy': [], 'precision': [], 'recall': []}"
   ]
  },
  {
   "cell_type": "code",
   "execution_count": 9,
   "id": "b3d1a6b8-2e9c-43d1-9810-2d10c375010c",
   "metadata": {
    "tags": []
   },
   "outputs": [],
   "source": [
    "for depth in max_depths: \n",
    "    clf = DecisionTreeClassifier(max_depth=depth)"
   ]
  },
  {
   "cell_type": "code",
   "execution_count": 7,
   "id": "7a4fea1e-ffe0-4df3-a6d0-ddf1f27a02b1",
   "metadata": {
    "tags": []
   },
   "outputs": [
    {
     "ename": "NameError",
     "evalue": "name 'X' is not defined",
     "output_type": "error",
     "traceback": [
      "\u001b[0;31m---------------------------------------------------------------------------\u001b[0m",
      "\u001b[0;31mNameError\u001b[0m                                 Traceback (most recent call last)",
      "Cell \u001b[0;32mIn[7], line 2\u001b[0m\n\u001b[1;32m      1\u001b[0m kf \u001b[38;5;241m=\u001b[39m KFold(n_splits\u001b[38;5;241m=\u001b[39m\u001b[38;5;241m10\u001b[39m, shuffle\u001b[38;5;241m=\u001b[39m\u001b[38;5;28;01mTrue\u001b[39;00m, random_state\u001b[38;5;241m=\u001b[39m\u001b[38;5;241m42\u001b[39m)\n\u001b[0;32m----> 2\u001b[0m acc_scores \u001b[38;5;241m=\u001b[39m cross_val_score(clf, X, y, cv\u001b[38;5;241m=\u001b[39mkf, scoring\u001b[38;5;241m=\u001b[39m\u001b[38;5;124m'\u001b[39m\u001b[38;5;124maccuracy\u001b[39m\u001b[38;5;124m'\u001b[39m)\n\u001b[1;32m      3\u001b[0m prec_scores \u001b[38;5;241m=\u001b[39m cross_val_score(clf, X, y, cv\u001b[38;5;241m=\u001b[39mkf, scoring\u001b[38;5;241m=\u001b[39m\u001b[38;5;124m'\u001b[39m\u001b[38;5;124mprecision\u001b[39m\u001b[38;5;124m'\u001b[39m)\n\u001b[1;32m      4\u001b[0m rec_scores \u001b[38;5;241m=\u001b[39m cross_val_score(clf, X, y, cv\u001b[38;5;241m=\u001b[39mkf, scoring\u001b[38;5;241m=\u001b[39m\u001b[38;5;124m'\u001b[39m\u001b[38;5;124mrecall\u001b[39m\u001b[38;5;124m'\u001b[39m)\n",
      "\u001b[0;31mNameError\u001b[0m: name 'X' is not defined"
     ]
    }
   ],
   "source": [
    "kf = KFold(n_splits=10, shuffle=True, random_state=42)\n",
    "acc_scores = cross_val_score(clf, X, y, cv=kf, scoring='accuracy')\n",
    "prec_scores = cross_val_score(clf, X, y, cv=kf, scoring='precision')\n",
    "rec_scores = cross_val_score(clf, X, y, cv=kf, scoring='recall')"
   ]
  }
 ],
 "metadata": {
  "kernelspec": {
   "display_name": "Python 3 (ipykernel)",
   "language": "python",
   "name": "python3"
  },
  "language_info": {
   "codemirror_mode": {
    "name": "ipython",
    "version": 3
   },
   "file_extension": ".py",
   "mimetype": "text/x-python",
   "name": "python",
   "nbconvert_exporter": "python",
   "pygments_lexer": "ipython3",
   "version": "3.11.5"
  },
  "toc": {
   "base_numbering": 1,
   "nav_menu": {},
   "number_sections": true,
   "sideBar": true,
   "skip_h1_title": false,
   "title_cell": "Table of Contents",
   "title_sidebar": "Contents",
   "toc_cell": false,
   "toc_position": {},
   "toc_section_display": true,
   "toc_window_display": false
  }
 },
 "nbformat": 4,
 "nbformat_minor": 5
}
